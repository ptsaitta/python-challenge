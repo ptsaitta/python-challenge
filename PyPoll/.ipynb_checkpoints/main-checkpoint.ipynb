{
 "cells": [
  {
   "cell_type": "code",
   "execution_count": 1,
   "metadata": {},
   "outputs": [],
   "source": [
    "#modules\n",
    "\n",
    "import os\n",
    "import csv"
   ]
  },
  {
   "cell_type": "code",
   "execution_count": 2,
   "metadata": {},
   "outputs": [
    {
     "name": "stdout",
     "output_type": "stream",
     "text": [
      "../PyPoll/Resources/election_data.csv\n"
     ]
    }
   ],
   "source": [
    "#set path to file\n",
    "\n",
    "csvpath = os.path.join(\"../PyPoll/\", \"Resources/\", \"election_data.csv\")\n",
    "\n",
    "print(csvpath)"
   ]
  },
  {
   "cell_type": "code",
   "execution_count": 3,
   "metadata": {},
   "outputs": [
    {
     "name": "stdout",
     "output_type": "stream",
     "text": [
      "3521001\n"
     ]
    }
   ],
   "source": [
    "#read in datafile\n",
    "\n",
    "with open(csvpath) as csvfile:\n",
    "\n",
    "    csvreader = csv.reader(csvfile, delimiter=',')\n",
    "    \n",
    "    \n",
    "    csv_header = next(csvreader)\n",
    "    \n",
    "#total number of votes cast\n",
    "\n",
    "\n",
    "    votetotal = 0\n",
    "\n",
    "    for row in csvreader:\n",
    "        votetotal = votetotal + 1\n",
    "        \n",
    "print(votetotal)"
   ]
  },
  {
   "cell_type": "code",
   "execution_count": 4,
   "metadata": {},
   "outputs": [
    {
     "name": "stdout",
     "output_type": "stream",
     "text": [
      "['Khan', 'Correy', 'Li', \"O'Tooley\"]\n"
     ]
    }
   ],
   "source": [
    "#read in datafile\n",
    "\n",
    "with open(csvpath) as csvfile:\n",
    "\n",
    "    csvreader = csv.reader(csvfile, delimiter=',')\n",
    "    \n",
    "    \n",
    "    csv_header = next(csvreader)\n",
    "\n",
    "#create list of all candidates who received votes\n",
    "\n",
    "    candidates = []\n",
    "\n",
    "    for row in csvreader:\n",
    "        if row[2] not in candidates:\n",
    "            candidates.append(row[2])\n",
    "            \n",
    "print(candidates)"
   ]
  },
  {
   "cell_type": "code",
   "execution_count": 6,
   "metadata": {},
   "outputs": [
    {
     "name": "stdout",
     "output_type": "stream",
     "text": [
      "63.00001050837531\n",
      "19.999994319797125\n",
      "13.999996023857989\n",
      "2.999999147969569\n"
     ]
    }
   ],
   "source": [
    "#read in datafile\n",
    "\n",
    "with open(csvpath) as csvfile:\n",
    "\n",
    "    csvreader = csv.reader(csvfile, delimiter=',')\n",
    "    \n",
    "    \n",
    "    csv_header = next(csvreader)\n",
    "    \n",
    "#percentage of votes each candidate won\n",
    "#Khan, Correy, Li, O'Tooley\n",
    "\n",
    "    khanvotes = 0\n",
    "    correyvotes = 0\n",
    "    livotes = 0\n",
    "    otooleyvotes = 0\n",
    "\n",
    "    for row in csvreader:\n",
    "        if row[2] == \"Khan\":\n",
    "            khanvotes = khanvotes + 1\n",
    "        elif row[2] == \"Correy\":\n",
    "            correyvotes = correyvotes + 1\n",
    "        elif row[2] == \"Li\":\n",
    "            livotes = livotes + 1\n",
    "        else: otooleyvotes = otooleyvotes + 1\n",
    "\n",
    "    khanpercent = khanvotes/votetotal * 100\n",
    "    correypercent = correyvotes/votetotal * 100\n",
    "    lipercent = livotes/votetotal * 100\n",
    "    otooleypercent = otooleyvotes/votetotal * 100\n",
    "\n",
    "print(khanpercent)\n",
    "print(correypercent)\n",
    "print(lipercent)\n",
    "print(otooleypercent)"
   ]
  },
  {
   "cell_type": "code",
   "execution_count": 8,
   "metadata": {},
   "outputs": [
    {
     "name": "stdout",
     "output_type": "stream",
     "text": [
      "Khan\n"
     ]
    }
   ],
   "source": [
    "#determine winner\n",
    "\n",
    "winner = \"\"\n",
    "\n",
    "if khanpercent > correypercent and khanpercent > lipercent and khanpercent > otooleypercent:\n",
    "    winner = \"Khan\"\n",
    "    \n",
    "elif correypercent > lipercent and correypercent > otooleypercent:\n",
    "    winner = \"Correy\"\n",
    "\n",
    "elif lipercent > otooleypercent:\n",
    "    winner = \"Li\"\n",
    "\n",
    "else: winner = \"O'Tooley\"\n",
    "\n",
    "print(winner)"
   ]
  },
  {
   "cell_type": "code",
   "execution_count": 11,
   "metadata": {},
   "outputs": [
    {
     "name": "stdout",
     "output_type": "stream",
     "text": [
      "     Electoral Results:\n",
      "-----------------------------\n",
      "Total Votes: 3521001\n",
      "-----------------------------\n",
      "Khan: 63.00001050837531%\n",
      "Correy: 19.999994319797125%\n",
      "Li: 13.999996023857989%\n",
      "O'Tooley: 2.999999147969569%\n",
      "-----------------------------\n",
      "Winner: Khan\n",
      "-----------------------------\n"
     ]
    }
   ],
   "source": [
    "#construct report\n",
    "\n",
    "print(\"     Electoral Results:\")\n",
    "print(\"-----------------------------\")\n",
    "print(\"Total Votes: \" + str(votetotal))\n",
    "print(\"-----------------------------\")\n",
    "print(\"Khan: \" + str(khanpercent) + \"%\")\n",
    "print(\"Correy: \" + str(correypercent) + \"%\")\n",
    "print(\"Li: \" + str(lipercent) + \"%\")\n",
    "print(\"O'Tooley: \" + str(otooleypercent) + \"%\")\n",
    "print(\"-----------------------------\")\n",
    "print(\"Winner: \" + winner)\n",
    "print(\"-----------------------------\")"
   ]
  },
  {
   "cell_type": "code",
   "execution_count": 15,
   "metadata": {},
   "outputs": [],
   "source": [
    "#write report to output\n",
    "\n",
    "f = open(\"../Reports/electionresults.txt\", \"w\")\n",
    "print(\"     Electoral Results:\", file=f)\n",
    "print(\"-----------------------------\", file=f)\n",
    "print(\"Total Votes: \" + str(votetotal), file=f)\n",
    "print(\"-----------------------------\", file=f)\n",
    "print(\"Khan: \" + str(khanpercent) + \"%\", file=f)\n",
    "print(\"Correy: \" + str(correypercent) + \"%\", file=f)\n",
    "print(\"Li: \" + str(lipercent) + \"%\", file=f)\n",
    "print(\"O'Tooley: \" + str(otooleypercent) + \"%\", file=f)\n",
    "print(\"-----------------------------\", file=f,)\n",
    "print(\"Winner \" + winner, file=f)\n",
    "print(\"-----------------------------\", file=f)\n",
    "f.close()\n",
    "\n",
    "#fin"
   ]
  },
  {
   "cell_type": "code",
   "execution_count": null,
   "metadata": {},
   "outputs": [],
   "source": []
  }
 ],
 "metadata": {
  "kernelspec": {
   "display_name": "Python 3",
   "language": "python",
   "name": "python3"
  },
  "language_info": {
   "codemirror_mode": {
    "name": "ipython",
    "version": 3
   },
   "file_extension": ".py",
   "mimetype": "text/x-python",
   "name": "python",
   "nbconvert_exporter": "python",
   "pygments_lexer": "ipython3",
   "version": "3.8.3"
  }
 },
 "nbformat": 4,
 "nbformat_minor": 4
}
