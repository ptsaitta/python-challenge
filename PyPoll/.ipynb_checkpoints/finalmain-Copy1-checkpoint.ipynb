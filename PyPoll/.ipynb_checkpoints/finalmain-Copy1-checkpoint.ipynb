{
 "cells": [
  {
   "cell_type": "code",
   "execution_count": 1,
   "metadata": {},
   "outputs": [],
   "source": [
    "#modules\n",
    "\n",
    "import os\n",
    "import csv"
   ]
  },
  {
   "cell_type": "code",
   "execution_count": 13,
   "metadata": {},
   "outputs": [
    {
     "name": "stdout",
     "output_type": "stream",
     "text": [
      "../PyBank/Resources/budget_data.csv\n"
     ]
    }
   ],
   "source": [
    "#set path to file\n",
    "\n",
    "csvpath = os.path.join(\"../PyBank/\", \"Resources/\", \"budget_data.csv\")\n",
    "\n",
    "print(csvpath)"
   ]
  },
  {
   "cell_type": "code",
   "execution_count": 62,
   "metadata": {},
   "outputs": [
    {
     "name": "stdout",
     "output_type": "stream",
     "text": [
      "86\n"
     ]
    }
   ],
   "source": [
    "#read in datafile\n",
    "\n",
    "with open(csvpath) as csvfile:\n",
    "\n",
    "    csvreader = csv.reader(csvfile, delimiter=',')\n",
    "    \n",
    "    \n",
    "    csv_header = next(csvreader)\n",
    "    \n",
    "#Total Months portion\n",
    "\n",
    "    monthcounter = 0\n",
    "\n",
    "    for row in csvreader:\n",
    "        monthcounter = monthcounter + 1\n",
    "\n",
    "#total profit/loss\n",
    "\n",
    "    profit = 0\n",
    "\n",
    "    for row in csvreader:\n",
    "        profit = profit + float(row[1])\n",
    "    \n",
    "print(monthcounter)"
   ]
  },
  {
   "cell_type": "code",
   "execution_count": 63,
   "metadata": {},
   "outputs": [
    {
     "name": "stdout",
     "output_type": "stream",
     "text": [
      "38382578.0\n"
     ]
    }
   ],
   "source": [
    "#read in datafile\n",
    "\n",
    "with open(csvpath) as csvfile:\n",
    "\n",
    "    csvreader = csv.reader(csvfile, delimiter=',')\n",
    "    \n",
    "    \n",
    "    csv_header = next(csvreader)\n",
    "    \n",
    "\n",
    "#total profit/loss\n",
    "\n",
    "    profit = 0\n",
    "\n",
    "    for row in csvreader:\n",
    "        profit = profit + float(row[1])\n",
    "        \n",
    "print(profit)"
   ]
  },
  {
   "cell_type": "code",
   "execution_count": 64,
   "metadata": {},
   "outputs": [
    {
     "name": "stdout",
     "output_type": "stream",
     "text": [
      "446309.0465116279\n"
     ]
    }
   ],
   "source": [
    "#Average of the changes in \"Profit/Losses\" over the entire period\n",
    "\n",
    "with open(csvpath) as csvfile:\n",
    "\n",
    "    csvreader = csv.reader(csvfile, delimiter=',')\n",
    "    \n",
    "    \n",
    "    csv_header = next(csvreader)\n",
    "\n",
    "    averageprofit = 0\n",
    "\n",
    "    averageprofit = profit/monthcounter\n",
    "    \n",
    "print(averageprofit)"
   ]
  },
  {
   "cell_type": "code",
   "execution_count": 71,
   "metadata": {},
   "outputs": [
    {
     "name": "stdout",
     "output_type": "stream",
     "text": [
      "1170593.0\n",
      "Feb-2012\n"
     ]
    }
   ],
   "source": [
    "#greatest increase in profits (date and amount) over the entire period\n",
    "\n",
    "with open(csvpath) as csvfile:\n",
    "\n",
    "    csvreader = csv.reader(csvfile, delimiter=',')\n",
    "    \n",
    "    \n",
    "    csv_header = next(csvreader)\n",
    "\n",
    "    biggestprofit = 0.0\n",
    "    biggestprofitdate = \"\"\n",
    "\n",
    "    \n",
    "    for row in csvreader:\n",
    "        if biggestprofit < float(row[1]):\n",
    "            biggestprofit = float(row[1])\n",
    "            biggestprofitdate = row[0]\n",
    "\n",
    "print(biggestprofit)\n",
    "print(biggestprofitdate)"
   ]
  },
  {
   "cell_type": "code",
   "execution_count": 72,
   "metadata": {},
   "outputs": [
    {
     "name": "stdout",
     "output_type": "stream",
     "text": [
      "-1196225.0\n",
      "Sep-2013\n"
     ]
    }
   ],
   "source": [
    "#greatest decrease in profits (date and amount) over the entire period\n",
    "\n",
    "with open(csvpath) as csvfile:\n",
    "\n",
    "    csvreader = csv.reader(csvfile, delimiter=',')\n",
    "    \n",
    "    \n",
    "    csv_header = next(csvreader)\n",
    "\n",
    "    biggestloss = 0.0\n",
    "    biggestlossdate = \"\"\n",
    "\n",
    "\n",
    "    for row in csvreader:\n",
    "        if biggestloss > float(row[1]):\n",
    "            biggestloss = float(row[1])\n",
    "            biggestlossdate = row[0]\n",
    "\n",
    "print(biggestloss)\n",
    "print(biggestlossdate)"
   ]
  },
  {
   "cell_type": "code",
   "execution_count": 79,
   "metadata": {},
   "outputs": [
    {
     "name": "stdout",
     "output_type": "stream",
     "text": [
      "     Financial Analysis:\n",
      "--------------------------------\n",
      "Total Months: 86\n",
      "Total Profit: 38382578.0\n",
      "Average Change: 446309.0465116279\n",
      "Greatest Increase of Profits: Feb-2012: $1170593.0\n",
      "Greatest Increase of Losses: Sep-2013: $-1196225.0\n"
     ]
    }
   ],
   "source": [
    "#construct report\n",
    "\n",
    "print(\"     Financial Analysis:\")\n",
    "print(\"--------------------------------\")\n",
    "print(\"Total Months: \" + str(monthcounter))\n",
    "print(\"Total Profit: \" + str(profit))\n",
    "print(\"Average Change: \" + str(averageprofit))\n",
    "print(\"Greatest Increase of Profits: \" + str(biggestprofitdate) + \": $\" + str(biggestprofit))\n",
    "print(\"Greatest Increase of Losses: \" + str(biggestlossdate) + \": $\" + str(biggestloss))"
   ]
  },
  {
   "cell_type": "code",
   "execution_count": 80,
   "metadata": {},
   "outputs": [],
   "source": [
    "#write report to output\n",
    "\n",
    "f = open(\"financialreport.txt\", \"w\")\n",
    "print(\"     Financial Analysis:\", file=f)\n",
    "print(\"Total Months: \" + str(monthcounter), file=f)\n",
    "print(\"Total: \" + str(profit), file=f)\n",
    "print(\"Average Change: \" + str(averageprofit), file=f)\n",
    "print(\"Greatest Increase of Profits: \" + str(biggestprofitdate) + \": $\" + str(biggestprofit), file=f)\n",
    "print(\"Greatest Increase of Losses: \" + str(biggestlossdate) + \": $\" + str(biggestloss), file=f)\n",
    "f.close()\n",
    "\n",
    "#fin"
   ]
  },
  {
   "cell_type": "code",
   "execution_count": null,
   "metadata": {},
   "outputs": [],
   "source": []
  }
 ],
 "metadata": {
  "kernelspec": {
   "display_name": "Python 3",
   "language": "python",
   "name": "python3"
  },
  "language_info": {
   "codemirror_mode": {
    "name": "ipython",
    "version": 3
   },
   "file_extension": ".py",
   "mimetype": "text/x-python",
   "name": "python",
   "nbconvert_exporter": "python",
   "pygments_lexer": "ipython3",
   "version": "3.8.3"
  }
 },
 "nbformat": 4,
 "nbformat_minor": 4
}
