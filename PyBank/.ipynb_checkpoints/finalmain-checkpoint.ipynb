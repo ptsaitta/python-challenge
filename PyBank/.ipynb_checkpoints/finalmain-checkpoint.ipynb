{
 "cells": [
  {
   "cell_type": "code",
   "execution_count": null,
   "metadata": {},
   "outputs": [],
   "source": [
    "#modules#\n",
    "\n",
    "import os\n",
    "import csv"
   ]
  },
  {
   "cell_type": "code",
   "execution_count": null,
   "metadata": {},
   "outputs": [],
   "source": [
    "#set path to file\n",
    "\n",
    "csvpath = os.path.join(\"Resources\", \"budget_data.csv\")"
   ]
  },
  {
   "cell_type": "code",
   "execution_count": null,
   "metadata": {},
   "outputs": [],
   "source": [
    "#read in datafile\n",
    "\n",
    "with open(csvpath) as csvfile:\n",
    "\n",
    "    csvreader = csv.reader(csvfile, delimiter=',')\n",
    "    \n",
    "    \"print(csvreader)\"\n",
    "    csv_header = next(csvreader)"
   ]
  },
  {
   "cell_type": "code",
   "execution_count": null,
   "metadata": {},
   "outputs": [],
   "source": [
    "#Total Months portion#\n",
    "def monthcounter as int\n",
    "\n",
    "monthcounter = 0\n",
    "\n",
    "for row in csvreader:\n",
    "    monthcounter = monthcounter + 1"
   ]
  },
  {
   "cell_type": "code",
   "execution_count": null,
   "metadata": {},
   "outputs": [],
   "source": [
    "#total profit/loss\n",
    "def profit as double\n",
    "\n",
    "profit = 0\n",
    "\n",
    "for row in csvreader:\n",
    "    profit = profit + row[1]"
   ]
  },
  {
   "cell_type": "code",
   "execution_count": null,
   "metadata": {},
   "outputs": [],
   "source": [
    "#Average of the changes in \"Profit/Losses\" over the entire period\n",
    "\n",
    "def averageprofit as double\n",
    "\n",
    "averageprofit = profit/monthcounter"
   ]
  },
  {
   "cell_type": "code",
   "execution_count": null,
   "metadata": {},
   "outputs": [],
   "source": [
    "#greatest increase in profits (date and amount) over the entire period\n",
    "\n",
    "def biggestprofit as double\n",
    "def biggestprofitdate as string\n",
    "\n",
    "biggestprofit = 0\n",
    "\n",
    "\n",
    "for row in csvreader:\n",
    "    if biggestprofit < row[1]:\n",
    "        biggestprofit = row[1]\n",
    "        biggestprofitdate = row[0]"
   ]
  },
  {
   "cell_type": "code",
   "execution_count": null,
   "metadata": {},
   "outputs": [],
   "source": [
    "#greatest decrease in profits (date and amount) over the entire period\n",
    "\n",
    "def biggestloss as double\n",
    "def biggestlossdate as string\n",
    "\n",
    "\n",
    "biggestprofit = 0\n",
    "\n",
    "\n",
    "for row in csvreader:\n",
    "    if biggestloss < row[1]:\n",
    "        biggestloss = row[1]\n",
    "        biggestlossdate = row[0]"
   ]
  },
  {
   "cell_type": "code",
   "execution_count": null,
   "metadata": {},
   "outputs": [],
   "source": [
    "#construct report\n",
    "\n",
    "print(\"     Financial Analysis:\")\n",
    "print(\"Total Months: \" + monthcounter)\n",
    "print(\"Total: \" + profit)\n",
    "print(\"Average Change: \" + averageprofit)\n",
    "print(\"Greatest Increase of Profits: \" + biggestprofitdate + \": $\" + biggestprofit)\n",
    "print(\"Greatest Increase of Losses: \" + biggestlossdate + \": $\" + biggestloss)"
   ]
  },
  {
   "cell_type": "code",
   "execution_count": null,
   "metadata": {},
   "outputs": [],
   "source": [
    "#write report to output\n",
    "\n",
    "f = open(\"financialreport.txt\", \"w\")\n",
    "print(\"     Financial Analysis:\", file=f)\n",
    "print(\"Total Months: \" + monthcounter, file=f)\n",
    "print(\"Total: \" + profit, file=f)\n",
    "print(\"Average Change: \" + averageprofit, file=f)\n",
    "print(\"Greatest Increase of Profits: \" + biggestprofitdate + \": $\" + biggestprofit, file=f)\n",
    "print(\"Greatest Increase of Losses: \" + biggestlossdate + \": $\" + biggestloss, file=f)\n",
    "f.close()\n",
    "\n",
    "#fin"
   ]
  }
 ],
 "metadata": {
  "kernelspec": {
   "display_name": "Python 3",
   "language": "python",
   "name": "python3"
  },
  "language_info": {
   "codemirror_mode": {
    "name": "ipython",
    "version": 3
   },
   "file_extension": ".py",
   "mimetype": "text/x-python",
   "name": "python",
   "nbconvert_exporter": "python",
   "pygments_lexer": "ipython3",
   "version": "3.8.3"
  }
 },
 "nbformat": 4,
 "nbformat_minor": 4
}
